{
 "cells": [
  {
   "cell_type": "markdown",
   "id": "76ffa401",
   "metadata": {},
   "source": [
    "# Assignment 1: Programming Assignment (20 marks)\n",
    "\n",
    "Student Name: `Please enter you full name here`\n",
    "\n",
    "Student ID: `Please enter you student number here`\n",
    "\n",
    "## General info\n",
    "\n",
    "<b>Due date</b>: Friday, 12 April 2024 5pm\n",
    "\n",
    "<b>Submission method</b>: Canvas submission\n",
    "\n",
    "<b>Submission materials</b>: completed copy of this iPython notebook\n",
    "\n",
    "<b>Late submissions</b>: -10% per day up to 5 days (both weekdays and weekends count)\n",
    "<ul>\n",
    "    <li>one day late, -2.0;</li>\n",
    "    <li>two days late, -4.0;</li>\n",
    "    <li>three days late, -6.0;</li>\n",
    "    <li>four days late, -8.0;</li>\n",
    "    <li>five days late, -10.0;</li>\n",
    "</ul>\n",
    "\n",
    "<b>Marks</b>:  This assignment will be marked out of 20, and make up 20% of your overall mark for this subject.\n",
    "\n",
    "<b>Materials</b>: See [Using Jupyter Notebook and Python page] on Canvas (under Modules> Coding Resources) for information on the basic setup required for this class, including an iPython notebook viewer and the python packages `numpy`, `pandas`, `matplotlib` and `sklearn`. You can use any Python built-in packages, but do not use any other 3rd party packages; if your iPython notebook doesn't run on the marker's machine, you will lose marks. <b> You should use Python 3</b>.  \n",
    "\n",
    "<b>Evaluation</b>: Your iPython notebook should run end-to-end without any errors in a reasonable amount of time, and you must follow all instructions provided below, including specific implementation requirements and instructions for what needs to be printed (please avoid printing output we don't ask for). You should edit the sections below where requested, but leave the rest of the code as is. You should leave the output from running your code in the iPython notebook you submit, to assist with marking. The amount each section is worth is given in parenthesis after the instructions. \n",
    "\n",
    "\n",
    "<b>Updates</b>: Any major changes to the assignment will be announced via Canvas. Minor changes and clarifications will be announced on Canvas>Assignments>Assignmnet1; we recommend you check it regularly.\n",
    "\n",
    "<b>Academic misconduct</b>: This assignment is an individual task, and so reuse of code or other instances of clear influence will be considered cheating. Please check the <a href=\"https://canvas.lms.unimelb.edu.au/courses/124196/modules#module_662096\">CIS Academic Honesty training</a> for more information. We will be checking submissions for originality and will invoke the University’s <a href=\"http://academichonesty.unimelb.edu.au/policy.html\">Academic Misconduct policy</a> where inappropriate levels of collusion or plagiarism are deemed to have taken place. Content produced by an AI (including, but not limited to ChatGPT) is not your own work, and submitting such content will be treated as a case of academic misconduct, in line with the <a href=\"https://academicintegrity.unimelb.edu.au/plagiarism-and-collusion/artificial-intelligence-tools-and-technologies\"> University's policy</a>.\n",
    "\n",
    "**IMPORTANT**\n",
    "\n",
    "Please carefully read and fill out the <b>Authorship Declaration</b> form at the bottom of the page. Failure to fill out this form results in the following deductions: \n",
    "<UL TYPE=”square”>\n",
    "<LI>Missing Authorship Declaration at the bottom of the page, **-1.0**\n",
    "<LI>Incomplete or unsigned Authorship Declaration at the bottom of the page, **-0.5**\n",
    "</UL>\n"
   ]
  },
  {
   "cell_type": "markdown",
   "id": "a66d47f4",
   "metadata": {},
   "source": [
    "## Overview:\n",
    "For this assignment, you will apply a number of classifiers on a given dataset, and\n",
    "explore various evaluation paradigms and analyze the impact of multiple parameters on the performance of the classifiers. You will then answer a number of conceptual questions about the Naive Bayes classifier, K-nearest neighbors, and Decision Tree and a number of baselines based on your observations.\n",
    "\n",
    "## Data Sets:\n",
    "In this assignment, you will work with the following dataset., which is adapted from Spotify website:\n",
    "\n",
    " - **Spotify**: You predict the genre of a Spotify track, based on various audio features and meta data information such as Artists and Album Name. More information can be found on the given README file.\n",
    "\n",
    "\n",
    " \n",
    "Here we have imported some of the modules and libraries that you might need to use. "
   ]
  },
  {
   "cell_type": "code",
   "execution_count": null,
   "id": "d2b26164",
   "metadata": {},
   "outputs": [],
   "source": [
    "import pandas as pd\n",
    "import numpy as np\n",
    "import matplotlib.pyplot as plt\n",
    "import copy\n",
    "import math\n",
    "from collections import defaultdict, Counter"
   ]
  },
  {
   "cell_type": "code",
   "execution_count": null,
   "id": "afa339cc",
   "metadata": {},
   "outputs": [],
   "source": [
    "from sklearn.feature_extraction.text import CountVectorizer\n",
    "from sklearn.model_selection import train_test_split\n",
    "from sklearn.dummy import DummyClassifier\n",
    "from sklearn.naive_bayes import GaussianNB, MultinomialNB\n",
    "from sklearn.tree import DecisionTreeClassifier\n",
    "from sklearn.metrics import accuracy_score, precision_score,f1_score\n",
    "from sklearn.metrics import classification_report, confusion_matrix, ConfusionMatrixDisplay"
   ]
  },
  {
   "cell_type": "code",
   "execution_count": null,
   "id": "4d90b111-3c9f-4b4c-a0a6-413000636fc6",
   "metadata": {},
   "outputs": [],
   "source": [
    "# ignore warnings \n",
    "pd.options.mode.chained_assignment = None # default='warn'"
   ]
  },
  {
   "cell_type": "markdown",
   "id": "89a1c496",
   "metadata": {},
   "source": [
    "## Question 1. Reading and Pre-processing [2.5 marks] \n",
    "\n",
    "First, we read in the data into a pandas DataFrame.\n",
    "\n",
    "**A)** Print the first 3 rows of the DataFrame.\n",
    "\n",
    "**B)** Replace missing values denoted by `?` with a value using the **most suitable** data imputation methodology given the nature of given data. **[1.25 marks]** Please provide justification for your chosen methodology. **[0.75 marks]**\n",
    "\n",
    "**NOTE:** *There are multiple methods for performing data imputation. It is crucial to select the most appropriate method for each feature in this dataset and justify the selection. Different methods may be used for different features.*  \n"
   ]
  },
  {
   "cell_type": "markdown",
   "id": "e7287099-f1ff-484b-896a-db08abc5f500",
   "metadata": {},
   "source": [
    "*Your Justification Here*"
   ]
  },
  {
   "cell_type": "code",
   "execution_count": null,
   "id": "e7b575f8-eb5f-44e5-b90d-bac51cbab33d",
   "metadata": {},
   "outputs": [],
   "source": [
    "df = pd.read_csv('Spotify.csv') \n",
    "\n",
    "## your code here\n",
    "\n"
   ]
  },
  {
   "cell_type": "markdown",
   "id": "fourth-joint",
   "metadata": {},
   "source": [
    "**C)** We used `train_test_split` to divide the processed `df` into 80% train, 20% test. Use the splitted datasets to train and test the Zero-R baseline model and report the accuracy. **[0.25 marks]** Provide an explanation for your results. **[0.25 marks]**"
   ]
  },
  {
   "cell_type": "code",
   "execution_count": null,
   "id": "07e3d435-af7a-4bd4-b481-f22b1c7550a2",
   "metadata": {},
   "outputs": [],
   "source": [
    "X = df[df.columns.difference(['track_genre'])]\n",
    "y = df['track_genre']\n",
    "\n",
    "X_train, X_test, y_train, y_test = train_test_split(X, y, test_size=0.2, train_size=0.8, random_state=90049, shuffle=True, stratify=y) \n",
    "\n",
    "## your code here\n",
    "\n",
    "\n",
    "\n",
    "##########\n",
    "\n",
    "print(\"Accuracy of the basement\", ZeroR_Acc.round(3))"
   ]
  },
  {
   "cell_type": "markdown",
   "id": "21ec6a7b",
   "metadata": {},
   "source": [
    "## Question 2. Naive Bayes models [6.5 marks]\n",
    "\n",
    "In this part you need to use two Naive Bayes models \"Gaussian Naive Bayes\" and \"Multinominal Naive Bayes\". For both these models you need to deal with the three features that are not numeric (`artists`, `album_name` and `track_name`). We are going to run TWO experiments. For each experiment you need to Divide the `df` into 80% train and 20% test splits, using the stratification strategy. Set the `random_state` equal to `90049` and shuffle argumnet equal to `True`. Then, train and test for both models. Report the accuracy of your models.\n",
    "\n",
    "### Experiment 1. \n",
    "\n",
    "**A)** Remove the the features `artists`, `album_name` and `track_name` and use the other features to train and test the two Naive Bayes Model. Report the performance of the two models. **[1.5 marks]** \n",
    "\n",
    "**NOTE:** *You will need to find a solution to appropriately fix the issue of negative values for the \"Multinominal Naive Bayes\" model. Explain and justify the method you have used.*\n",
    "\n"
   ]
  },
  {
   "cell_type": "code",
   "execution_count": null,
   "id": "1ef637cf",
   "metadata": {},
   "outputs": [],
   "source": [
    "\n",
    "## your code here\n",
    "\n",
    "\n",
    "\n",
    "#################\n",
    "\n",
    "print(\"Accuracy of GNB using only numeric features:\", GNB_Acc_1.round(3))\n",
    "print(\"Accuracy of MNB using only numeric features:\", MNB_Acc_1.round(3))  \n"
   ]
  },
  {
   "cell_type": "markdown",
   "id": "compressed-check",
   "metadata": {},
   "source": [
    "### Experiment 2\n",
    "\n",
    "**B)** Transform features `artists`, `album_name` and `track_name` to numeric values using the `CountVectorizer` function. Use all the features (including the transformed ones) to train and test the two Naive Bayes Model. Report the performance of the two models. **[2 marks]** \n",
    "\n",
    "*NOTE: Running this code can be time consuming depending on your processing power.*\n"
   ]
  },
  {
   "cell_type": "code",
   "execution_count": null,
   "id": "8e1c4411-d564-489c-ac1a-fc6c64d865f8",
   "metadata": {},
   "outputs": [],
   "source": [
    "## your code here\n",
    "\n",
    "\n",
    "\n",
    "###################\n",
    "\n",
    "print(\"Accuracy of GNB:\", GNB_Acc_2.round(3))\n",
    "print(\"Accuracy of MNB:\", MNB_Acc_2.round(3))  \n",
    "\n"
   ]
  },
  {
   "cell_type": "markdown",
   "id": "hidden-information",
   "metadata": {},
   "source": [
    "**C)** The two Naive Bayes (NB) classifiers in experiments 1 and 2 showed different performances. Explain in your words what is the reason for these differences in this dataset. Your answer should include the following parts (Limit your answer to maximum 200 words for each section):\n",
    "- Compare the results of MNB and GNB in Experiment 1 and explain your observation. **[0.5 marks]** \n",
    "- Compare the results of MNB and GNB in Experiment 2 and explain your observation.  **[0.5 marks]** \n",
    "- Compare the results of MNB and GNB from Experiment 1 to Experiment 2 **[0.5 marks]** "
   ]
  },
  {
   "cell_type": "markdown",
   "id": "952198e3-c56c-4a42-8676-baca55e553c5",
   "metadata": {},
   "source": [
    "*Your Answer Here*"
   ]
  },
  {
   "cell_type": "markdown",
   "id": "917a0465-4e4b-4442-b2d8-4a9823ffc747",
   "metadata": {},
   "source": [
    "**D)** Propose a method to enhance the performance of the \"Multinomial Naive Bayes\" model by adjusting its hyperparameters? **[0.5 marks]** Provide a rationale for your proposed solution and present two supporting reasons if applicable. **[1 mark]** (Limit your answer to maximum 200 words)\n",
    "\n",
    "*NOTE: You may opt to design a test code to validate your hypothesis regarding the potential enhancement in model performance. However, this coding part is optional.*"
   ]
  },
  {
   "cell_type": "markdown",
   "id": "bbce9eca-32a2-4276-93f3-9010c0ac8005",
   "metadata": {},
   "source": [
    "*Your Answer Here*"
   ]
  },
  {
   "cell_type": "markdown",
   "id": "7de4822d",
   "metadata": {},
   "source": [
    "## Question 3. Decision Tree [4 marks] \n",
    "### Experiment 3\n",
    "**A)** For the dataset utilized in Experiment 1, which includes all features except `artists`, `album_name`, and `track_name`, replicate the experiment with a Decision Tree classifier using a random state of `2024`. Employ the `Information Gain` as the criterion for splitting. **[0.5 Marks]**"
   ]
  },
  {
   "cell_type": "code",
   "execution_count": null,
   "id": "0859a139",
   "metadata": {},
   "outputs": [],
   "source": [
    "## your code here\n",
    "\n",
    "\n",
    "\n",
    "##################\n",
    "\n",
    "print(\"Accuracy of DT:\", DT_Acc_1.round(3))\n"
   ]
  },
  {
   "cell_type": "markdown",
   "id": "1ec23544-7567-4efd-b494-6670a731fdd8",
   "metadata": {},
   "source": [
    "**B)** Report the root and first two children (root node's right and left nodes) for this Decision Tree. **[0.75 marks]** Explain your findings. **[0.75 marks]**"
   ]
  },
  {
   "cell_type": "markdown",
   "id": "9f3287a1-3d47-4ced-b9a3-2b05921e9c20",
   "metadata": {},
   "source": [
    "*Your Answer Here*"
   ]
  },
  {
   "cell_type": "markdown",
   "id": "e6bc4ac3-0edd-40e3-a094-74383801d4db",
   "metadata": {},
   "source": [
    "### Experiment 4\n",
    "\n",
    "**C)** For the dataset utilized in Experiment 2, which includes all features, replicate the experiment with a Decision Tree classifier using a random state of `2024`. Employ the `Information Gain` as the criterion for splitting. **[0.5 Marks]**"
   ]
  },
  {
   "cell_type": "code",
   "execution_count": null,
   "id": "84191bca-b2e3-4be9-bdb5-015358d17d46",
   "metadata": {},
   "outputs": [],
   "source": [
    "\n",
    "## your code here\n",
    "\n",
    "\n",
    "\n",
    "################\n",
    "\n",
    "print(\"Accuracy of DT:\", DT_Acc_2.round(3))\n"
   ]
  },
  {
   "cell_type": "markdown",
   "id": "7a7331aa-288b-4327-b72c-0f1a087e1f8b",
   "metadata": {},
   "source": [
    "**D)** Perform Feature Selection strategically to maximize the accuracy of the Decision Tree classifier using a random state of `2024` and `Information Gain` as the splitting criterion. **[1 Marks]**"
   ]
  },
  {
   "cell_type": "code",
   "execution_count": null,
   "id": "5058d84b-58db-4852-a1ec-552bf9e88c03",
   "metadata": {},
   "outputs": [],
   "source": [
    "## your code here\n",
    "\n",
    "\n",
    "\n",
    "###################\n",
    "\n",
    "print(\"Accuracy of DT:\", DT_Acc_3.round(3))\n"
   ]
  },
  {
   "cell_type": "markdown",
   "id": "89f0f2d9-73c9-4013-92ce-12c3aeef64ef",
   "metadata": {},
   "source": [
    "**E)** In your own words, explain why you think the modification you proposed in part **D** has improved the accuracy of your Decision Tree classifier. Provide ONE possible reason. **[0.5 marks]** (Limit your answer to maximum 200 words)"
   ]
  },
  {
   "cell_type": "markdown",
   "id": "2cd84c84-0057-4145-9140-d9604215d418",
   "metadata": {},
   "source": [
    "*Your Answer Here*"
   ]
  },
  {
   "cell_type": "markdown",
   "id": "8357cd59",
   "metadata": {},
   "source": [
    "## Question 4. Evaluation [7 marks]"
   ]
  },
  {
   "cell_type": "markdown",
   "id": "f20e33cb-5d3d-45ed-9221-b25da3b04f18",
   "metadata": {},
   "source": [
    "**A)** For Decision Tree in Experiment 4 part C, visualize the Confusion Matrix using the `ConfusionMatrixDisplay` method and identify the `track_genre` with the lowest and highest True Positive (TP) values. **[0.5 Marks]** Provide a discussion on intutive reasons of disparities in the outcomes associated with different genres. **[0.5 Marks]** (Limit your answer to maximum 200-300 words)"
   ]
  },
  {
   "cell_type": "markdown",
   "id": "2f0ad621-cd24-4bd1-8018-63f38563bd36",
   "metadata": {},
   "source": [
    "*Your Answer Here*"
   ]
  },
  {
   "cell_type": "code",
   "execution_count": null,
   "id": "52433b33-b753-4cc2-9072-e45dc6eb3ba9",
   "metadata": {},
   "outputs": [],
   "source": [
    "## your code here\n",
    "\n",
    "\n"
   ]
  },
  {
   "cell_type": "markdown",
   "id": "a2f2680b-08f9-4a29-a31f-971b43b08825",
   "metadata": {
    "tags": []
   },
   "source": [
    "**B)** In Experiment 2, part C, for both the Multinomial Naive Bayes and Gaussian Naive Bayes models, provide the following values: **[2 marks]**\n",
    "- **1.** What is the probability that a track that is an \"techno\" genre is identified by the model as an \"techno\" genre?\n",
    "- **2.** What is the probability that if a track is identified by the model as \"techno\", it is in fact a \"techno\" genre track?"
   ]
  },
  {
   "cell_type": "code",
   "execution_count": null,
   "id": "50095325-e33b-4a3b-9faf-382f95d34d34",
   "metadata": {
    "tags": []
   },
   "outputs": [],
   "source": [
    "## your code here\n",
    "\n",
    "\n",
    "\n",
    "################"
   ]
  },
  {
   "cell_type": "markdown",
   "id": "cb710150-215c-44f9-9977-48244a72f262",
   "metadata": {},
   "source": [
    "**C)** Comment on different behaviour of GNB and MNB for predicting 'techno' genre? **[1.5 marks]** Which model is performing better for this feature. Justify your answer.  **[1 mark]** (Limit your answer to maximum 200-300 words)"
   ]
  },
  {
   "cell_type": "markdown",
   "id": "63d70693-53ef-47b1-904b-246627aa1c1e",
   "metadata": {},
   "source": [
    "*Your Answer Here*"
   ]
  },
  {
   "cell_type": "markdown",
   "id": "15a06a2b-8f99-499e-b4d8-ed70d4c68730",
   "metadata": {},
   "source": [
    "**D)** For your Decision Tree in expeiment 3 part C, report the following values: **[0.5 marks]**\n",
    "- What is the probability that a track that is an \"techno\" genre is identified by the model as an \"techno\" genre?\n",
    "- What is the probability that if a track is identified by the model as \"techno\", it is in fact a \"techno\" genre track?"
   ]
  },
  {
   "cell_type": "code",
   "execution_count": null,
   "id": "23397207-65b2-4777-99cc-43d8af4f0360",
   "metadata": {},
   "outputs": [],
   "source": [
    "# your code here\n",
    "\n",
    "\n",
    "\n",
    "################"
   ]
  },
  {
   "cell_type": "markdown",
   "id": "67ccc768-d75d-47f2-b6ac-a4d96c5188c8",
   "metadata": {},
   "source": [
    "**E)** Name one of the benefit of using your Decision Tree in compare with the two Naive Bayes models you have implemented for this dataset? Connect this benefit to your obseravtions in this dataset.  **[1 mark]** (Limit your answer to maximum 200-300 words)"
   ]
  },
  {
   "cell_type": "markdown",
   "id": "2d7fca43-caf1-4714-90c3-c6fe83d70df9",
   "metadata": {},
   "source": [
    "*Your Answer Here* "
   ]
  },
  {
   "cell_type": "markdown",
   "id": "55940e72-3414-4dab-be69-96a579354617",
   "metadata": {},
   "source": [
    "# Authorship Declaration:\n",
    "\n",
    "   (1) I certify that the program contained in this submission is completely\n",
    "   my own individual work, except where explicitly noted by comments that\n",
    "   provide details otherwise.  I understand that work that has been developed\n",
    "   by another student, or by me in collaboration with other students,\n",
    "   or by non-students as a result of request, solicitation, or payment,\n",
    "   may not be submitted for assessment in this subject.  I understand that\n",
    "   submitting for assessment work developed by or in collaboration with\n",
    "   other students or non-students constitutes Academic Misconduct, and\n",
    "   may be penalized by mark deductions, or by other penalties determined\n",
    "   via the University of Melbourne Academic Honesty Policy, as described\n",
    "   at https://academicintegrity.unimelb.edu.au.\n",
    "\n",
    "   (2) I also certify that I have not provided a copy of this work in either\n",
    "   softcopy or hardcopy or any other form to any other student, and nor will\n",
    "   I do so until after the marks are released. I understand that providing\n",
    "   my work to other students, regardless of my intention or any undertakings\n",
    "   made to me by that other student, is also Academic Misconduct.\n",
    "\n",
    "   (3) I further understand that providing a copy of the assignment\n",
    "   specification to any form of code authoring or assignment tutoring\n",
    "   service, or drawing the attention of others to such services and code\n",
    "   that may have been made available via such a service, may be regarded\n",
    "   as Student General Misconduct (interfering with the teaching activities\n",
    "   of the University and/or inciting others to commit Academic Misconduct).\n",
    "   I understand that an allegation of Student General Misconduct may arise\n",
    "   regardless of whether or not I personally make use of such solutions\n",
    "   or sought benefit from such actions.\n",
    "\n",
    "   <b>Signed by</b>: `Enter your full name and student number here before submission`\n",
    "   \n",
    "   <b>Dated</b>: `Enter the date that you \"signed\" the declaration`"
   ]
  }
 ],
 "metadata": {
  "kernelspec": {
   "display_name": "Python 3 (ipykernel)",
   "language": "python",
   "name": "python3"
  },
  "language_info": {
   "codemirror_mode": {
    "name": "ipython",
    "version": 3
   },
   "file_extension": ".py",
   "mimetype": "text/x-python",
   "name": "python",
   "nbconvert_exporter": "python",
   "pygments_lexer": "ipython3",
   "version": "3.9.13"
  }
 },
 "nbformat": 4,
 "nbformat_minor": 5
}
